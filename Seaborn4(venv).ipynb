{
 "cells": [
  {
   "cell_type": "markdown",
   "metadata": {},
   "source": [
    "### Exploring the Voilin Plot: "
   ]
  },
  {
   "cell_type": "code",
   "execution_count": null,
   "metadata": {},
   "outputs": [],
   "source": [
    "import seaborn as sns\n",
    "import pandas as pd\n",
    "import numpy as np\n",
    "import matplotlib.pyplot as plt\n",
    "\n",
    "print(np.__version__)\n",
    "print(sns.__version__)\n",
    "print(pd.__version__)\n"
   ]
  },
  {
   "cell_type": "code",
   "execution_count": null,
   "metadata": {},
   "outputs": [],
   "source": [
    "# again explore voilin plots its uses , application , related facts.\n",
    "\n",
    "# Ek baat yaad rakho fat and more bulggy part of violin curve represent the proximity and more data and thin and steeph part represent the low value point.\n",
    "# longer the length of violin plot londer the range of value range."
   ]
  },
  {
   "cell_type": "code",
   "execution_count": null,
   "metadata": {},
   "outputs": [],
   "source": [
    "# Datasets / Dtaframes(Seborn comes up with several built in dataset that can we load easily.)\n",
    "\n",
    "\n",
    "import seaborn as sns\n",
    "\n",
    "# here sns.load_dataset(\"data\")\n",
    "\n",
    "# Load example datasets\n",
    "tips = sns.load_dataset('tips')  # Restaurant tipping data\n",
    "iris = sns.load_dataset('iris')  # Flower species data\n",
    "penguins = sns.load_dataset('penguins')  # Penguin species data\n",
    "flights = sns.load_dataset('flights')  # Flight passenger trends\n",
    "diamonds = sns.load_dataset('diamonds')  # Diamond prices and features\n",
    "\n",
    "# To make that dataframe print(access) first time we need internet connection , abee file aise ho thodi acces hp jaygi first time .So be carefrl.\n",
    "\n",
    "# These datasets are prebulit and accessed from gitrepository so practice hard.\n",
    "# we have also some downloades dataframes in system we can also use them when require, also we can create an instat dataframe for practicing whenever required.\n"
   ]
  },
  {
   "cell_type": "code",
   "execution_count": null,
   "metadata": {},
   "outputs": [],
   "source": [
    "# basic working syntax of voilin plots.\n",
    "\n",
    "# Baki paraments to hum explore kaenge hiiii.\n",
    "\n",
    "\n",
    "# data_name =  any dataframe or any dataset i.e csv, xlsx, json  or  use as  data_a = sns.load_dataset(\"data_name \") from github etc aor from any source.\n",
    "# sns.voilinplot(x = \" \" , y = \" \" , data = data_name)  \n",
    "# plt.show()\n",
    "\n",
    "# here data must be of dataframe(of pandas)/ or any other file data  okay but  not  a list.\n",
    "\n"
   ]
  },
  {
   "cell_type": "code",
   "execution_count": null,
   "metadata": {},
   "outputs": [],
   "source": [
    "# How important is Voilin plot:\n",
    "\n",
    "\n",
    "#  A voilin plot plays similiar role as a box and whisker plot does . Its show the distribution of quantatiove data  accross several level of one (or more)  categorical variable such that those distributuin can be  compared."
   ]
  },
  {
   "cell_type": "code",
   "execution_count": null,
   "metadata": {},
   "outputs": [],
   "source": [
    "# basic one !\n",
    "\n",
    "data_iris = sns.load_dataset('iris')  # Flower species data\n",
    "print(data_iris)\n",
    "\n",
    "# data to soeted hai"
   ]
  },
  {
   "cell_type": "code",
   "execution_count": null,
   "metadata": {},
   "outputs": [],
   "source": [
    "# voilin basics !\n",
    "\n",
    "\n",
    "data_iris = sns.load_dataset('iris')  # Flower species data\n",
    "print(data_iris,\"\\n\\n\\n\")\n",
    "\n",
    "sns.violinplot(x = \"petal_length\", y = \"sepal_length\", data = data_iris)\n",
    "plt.show()\n",
    "\n",
    "# we got the basic notion lets ddep down in it! with some smalller data\n"
   ]
  },
  {
   "cell_type": "code",
   "execution_count": null,
   "metadata": {},
   "outputs": [],
   "source": [
    "\n",
    "# voilin basics ! once again.\n",
    "\n",
    "\n",
    "data_iris = sns.load_dataset('iris').head(30)  # Flower species data\n",
    "print(data_iris,\"\\n\\n\\n\")\n",
    "\n",
    "sns.violinplot(x = \"petal_length\", y = \"sepal_length\", data = data_iris)\n",
    "plt.show()\n",
    "\n",
    "\n",
    "\n",
    "# Ek baat yaad rakho fat and more bulggy part of violin curve represent the proximity and more data and thin and steeph part represent the low value point.\n",
    "# longer the length of violin plot londer the range of value range.\n",
    "\n",
    "# we got the basic notion lets ddep down in it! with some smalller data\n"
   ]
  },
  {
   "cell_type": "code",
   "execution_count": null,
   "metadata": {},
   "outputs": [],
   "source": [
    "# lets work oon any other data ! which provides us bettr understanding.\n",
    "\n",
    "data_diamonds = sns.load_dataset('diamonds')  # Diamond prices and features\n",
    "print(data_diamonds,\"\\n\\n\\n\")\n",
    "\n",
    "sns.violinplot(x= \"cut\", y = \"price\", data = data_diamonds)\n",
    "plt.show()\n",
    "\n",
    "# now it is clear!\n",
    "\n",
    "\n",
    "\n",
    "# Ek baat yaad rakho fat and more bulggy part of violin curve represent the proximity and more data and thin and steeph part represent the low value point.\n",
    "# longer the length of violin plot londer the range of value range.\n",
    "\n",
    "\n",
    "# NOW TRY TO ANALYSE AND INTERPRET WHAT THIS VIOLIN PLOT TRYING TO EXPLAIN ."
   ]
  },
  {
   "cell_type": "code",
   "execution_count": null,
   "metadata": {},
   "outputs": [],
   "source": [
    "# once more! \n",
    "\n",
    "\n",
    "\n",
    "\n",
    "data_diamonds = sns.load_dataset('diamonds')  # Diamond prices and features\n",
    "print(data_diamonds,\"\\n\\n\\n\")\n",
    "\n",
    "sns.violinplot(x= \"clarity\", y = \"carat\", data = data_diamonds)\n",
    "plt.show()\n",
    "\n",
    "\n",
    "\n",
    "# Ek baat yaad rakho fat and more bulggy part of violin curve represent the proximity and more data and thin and steeph part represent the low value point.\n",
    "# longer the length of violin plot londer the range of value range.\n",
    "\n",
    "# got it \n"
   ]
  },
  {
   "cell_type": "code",
   "execution_count": null,
   "metadata": {},
   "outputs": [],
   "source": [
    "# lets see hue : we know hue parmeter \n",
    "\n",
    "\n",
    "data_penguins = sns.load_dataset('penguins')  # Penguin species data\n",
    "#print(data_penguins)\n",
    "\n",
    "\n",
    "sns.violinplot( x= \"island\", y = \"bill_depth_mm\", data = data_penguins, hue = \"sex\")\n",
    "plt.show()"
   ]
  },
  {
   "cell_type": "code",
   "execution_count": null,
   "metadata": {},
   "outputs": [],
   "source": [
    "# lets work oon any other data ! which provides us bettr understanding.\n",
    "\n",
    "data_diamonds = sns.load_dataset('diamonds')  # Diamond prices and features\n",
    "print(data_diamonds,\"\\n\\n\\n\")\n",
    "\n",
    "sns.violinplot(x= \"cut\", y = \"price\", data = data_diamonds)\n",
    "plt.show()\n",
    "\n"
   ]
  },
  {
   "cell_type": "code",
   "execution_count": null,
   "metadata": {},
   "outputs": [],
   "source": [
    "# linewidth parameter: Its uses to deal with the width of violine plot.\n",
    "\n",
    "# lets work oon any other data ! which provides us bettr understanding.\n",
    "\n",
    "data_diamonds = sns.load_dataset('diamonds')  # Diamond prices and features\n",
    "print(data_diamonds,\"\\n\\n\\n\")\n",
    "\n",
    "sns.violinplot(x= \"cut\", y = \"price\", data = data_diamonds, linewidth = 2)\n",
    "plt.show()\n",
    "\n",
    "\n",
    "# got it"
   ]
  },
  {
   "cell_type": "code",
   "execution_count": null,
   "metadata": {},
   "outputs": [],
   "source": [
    "# dealing with palette parametr once again!\n",
    "\n",
    "# palette parameter: we know it already ! \n",
    "# as per new norns to use palette make sure you use hue parameter first!\n",
    "\n",
    "data_diamonds = sns.load_dataset('diamonds').head(80) # Diamond prices and features\n",
    "print(data_diamonds,\"\\n\\n\\n\")\n",
    "\n",
    "sns.violinplot(x= \"cut\", y = \"price\", data =data_diamonds, hue = \"color\",palette = \"viridis\")\n",
    "plt.show()\n",
    "\n",
    "\n"
   ]
  },
  {
   "cell_type": "code",
   "execution_count": null,
   "metadata": {},
   "outputs": [],
   "source": [
    "\n",
    "\n",
    "# color and saturation:\n",
    "\n",
    "data_diamonds = sns.load_dataset('diamonds')  # Diamond prices and features\n",
    "print(data_diamonds,\"\\n\\n\\n\")\n",
    "\n",
    "sns.violinplot(x= \"cut\", y = \"price\", data = data_diamonds, color = \"r\", saturation = 0.5)\n",
    "plt.show()\n",
    "\n",
    "\n",
    "# got it"
   ]
  },
  {
   "cell_type": "code",
   "execution_count": null,
   "metadata": {},
   "outputs": [],
   "source": [
    "# lets  see split parameter. \n",
    "# its basically deals with the categotical differetiation of passed category  of hue and to enable splitting just pass   split = True .\n",
    "\n",
    "\n",
    "data_penguins = sns.load_dataset('penguins')  # Penguin species data\n",
    "print(data_penguins)\n",
    "\n",
    "\n",
    "sns.violinplot( x= \"island\", y = \"bill_depth_mm\", data = data_penguins, hue = \"sex\",)  # everything is normal as here we dont pass split , let ssee next cell where we used split.\n",
    "plt.show()"
   ]
  },
  {
   "cell_type": "code",
   "execution_count": null,
   "metadata": {},
   "outputs": [],
   "source": [
    "# using split parameter!\n",
    "\n",
    "\n",
    "\n",
    "\n",
    "data_penguins = sns.load_dataset('penguins')  # Penguin species data\n",
    "#print(data_penguins)\n",
    "\n",
    "\n",
    "sns.violinplot( x= \"island\", y = \"bill_depth_mm\", data = data_penguins, hue = \"sex\", split = True)  # everything is normal as here we dont pass split , let ssee next cell where we used split.\n",
    "plt.show()\n",
    "\n",
    "\n",
    "\n",
    "# things are more sorted now!    \n"
   ]
  },
  {
   "cell_type": "code",
   "execution_count": null,
   "metadata": {},
   "outputs": [],
   "source": [
    "# order = [    ] parameter :  this parameter uses to arrange the horizontal axis element as per passed method.\n",
    "\n",
    "# order parameter me utne hi argument pass karna jitne jitne actual horizontal axis me elemnet hai taki compatibality maintain rahe.\n",
    "\n",
    "\n",
    "data_penguins = sns.load_dataset('penguins')  # Penguin species data\n",
    "#print(data_penguins)\n",
    "\n",
    "\n",
    "sns.violinplot( x= \"island\", y = \"bill_depth_mm\", data = data_penguins, hue = \"sex\", split = True, )  # everything is normal as here we dont pass split , let ssee next cell where we used split.\n",
    "plt.show()\n"
   ]
  },
  {
   "cell_type": "code",
   "execution_count": null,
   "metadata": {},
   "outputs": [],
   "source": [
    "# using order parameter!\n",
    "# kuch issue ke whjh se use nii kr paa rhae hai, anyway  synak is know to you  \n",
    "\n",
    "\n",
    "# as order = [     ]\n",
    "\n",
    "\n",
    "\n",
    "\n",
    "data_penguins = sns.load_dataset('penguins')  # Penguin species data\n",
    "#print(data_penguins)\n",
    "\n",
    "\n",
    "sns.violinplot( x= \"island\", y = \"bill_depth_mm\", data = data_penguins, hue = \"sex\", split = True)  \n",
    "plt.show()\n",
    "\n",
    "\n"
   ]
  },
  {
   "cell_type": "code",
   "execution_count": null,
   "metadata": {},
   "outputs": [],
   "source": [
    "# inner parameter:  its basically deals with the different type of texture  used inside the violin plot\n",
    "# some arguments are ;  quart,box(bydefault), quartile , point , stick\n",
    "\n",
    "# lets see\n",
    "\n",
    "\n",
    "\n",
    "\n",
    "\n",
    "data_penguins = sns.load_dataset('penguins')  # Penguin species data\n",
    "#print(data_penguins)\n",
    "\n",
    "\n",
    "sns.violinplot( x= \"island\", y = \"bill_depth_mm\", data = data_penguins, hue = \"sex\", split = True, inner =\"quart\" )  \n",
    "plt.show()\n",
    "\n",
    "\n"
   ]
  },
  {
   "cell_type": "code",
   "execution_count": null,
   "metadata": {},
   "outputs": [],
   "source": [
    "# once more!\n",
    "\n",
    "\n",
    "\n",
    "\n",
    "data_penguins = sns.load_dataset('penguins')  # Penguin species data\n",
    "#print(data_penguins)\n",
    "\n",
    "\n",
    "sns.violinplot( x= \"island\", y = \"bill_depth_mm\", data = data_penguins, hue = \"sex\", split = True, inner =  \"point\")  \n",
    "plt.show()\n",
    "\n"
   ]
  },
  {
   "cell_type": "code",
   "execution_count": null,
   "metadata": {},
   "outputs": [],
   "source": [
    "# SINGLE VIOLINE PLOT:\n",
    "\n",
    "# To create single violine plot make sure you pass only  either of x and  y ! \n",
    "\n",
    "\n",
    "\n",
    "\n",
    "\n",
    "data_penguins = sns.load_dataset('penguins')  # Penguin species data\n",
    "#print(data_penguins)\n",
    "\n",
    "\n",
    "sns.violinplot( x = \"island\", data = data_penguins)  \n",
    "plt.show()\n"
   ]
  }
 ],
 "metadata": {
  "kernelspec": {
   "display_name": "1STVENV",
   "language": "python",
   "name": "python3"
  },
  "language_info": {
   "codemirror_mode": {
    "name": "ipython",
    "version": 3
   },
   "file_extension": ".py",
   "mimetype": "text/x-python",
   "name": "python",
   "nbconvert_exporter": "python",
   "pygments_lexer": "ipython3",
   "version": "3.13.2"
  }
 },
 "nbformat": 4,
 "nbformat_minor": 2
}
