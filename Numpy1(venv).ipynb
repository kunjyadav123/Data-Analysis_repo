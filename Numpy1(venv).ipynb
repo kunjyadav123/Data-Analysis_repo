{
 "cells": [
  {
   "cell_type": "markdown",
   "metadata": {},
   "source": [
    "## COMPLETE NUMPY FOR DATA SCIENCE:(VENV)"
   ]
  },
  {
   "cell_type": "markdown",
   "metadata": {},
   "source": [
    "## Numpy Array and Basics:\n"
   ]
  },
  {
   "cell_type": "code",
   "execution_count": 1,
   "metadata": {},
   "outputs": [
    {
     "name": "stdout",
     "output_type": "stream",
     "text": [
      "2.2.4\n"
     ]
    }
   ],
   "source": [
    "import numpy as np    # here from now np is alias for  our numpy , its we will basically represent numpy as np \n",
    "print(np.__version__)"
   ]
  },
  {
   "cell_type": "markdown",
   "metadata": {},
   "source": [
    "### Creating array from list:\n"
   ]
  },
  {
   "cell_type": "code",
   "execution_count": 52,
   "metadata": {},
   "outputs": [
    {
     "ename": "TypeError",
     "evalue": "Field elements must be 2- or 3-tuples, got '5'",
     "output_type": "error",
     "traceback": [
      "\u001b[31m---------------------------------------------------------------------------\u001b[39m",
      "\u001b[31mTypeError\u001b[39m                                 Traceback (most recent call last)",
      "\u001b[36mCell\u001b[39m\u001b[36m \u001b[39m\u001b[32mIn[52]\u001b[39m\u001b[32m, line 1\u001b[39m\n\u001b[32m----> \u001b[39m\u001b[32m1\u001b[39m arr_2d = \u001b[43mnp\u001b[49m\u001b[43m.\u001b[49m\u001b[43marray\u001b[49m\u001b[43m(\u001b[49m\u001b[43m[\u001b[49m\u001b[32;43m1\u001b[39;49m\u001b[43m,\u001b[49m\u001b[32;43m2\u001b[39;49m\u001b[43m,\u001b[49m\u001b[32;43m3\u001b[39;49m\u001b[43m]\u001b[49m\u001b[43m,\u001b[49m\u001b[43m[\u001b[49m\u001b[32;43m5\u001b[39;49m\u001b[43m,\u001b[49m\u001b[32;43m7\u001b[39;49m\u001b[43m,\u001b[49m\u001b[32;43m0\u001b[39;49m\u001b[43m]\u001b[49m\u001b[43m)\u001b[49m \u001b[38;5;66;03m# its throws error bcoz we should always pass parameter within [] since here papameter is itself within [], so we forget actual syntaxual []. so pu it wisely.\u001b[39;00m\n\u001b[32m      2\u001b[39m \u001b[38;5;28mprint\u001b[39m(\u001b[33m\"\u001b[39m\u001b[33m2D_array:\u001b[39m\u001b[33m\"\u001b[39m,arr_2d)\n\u001b[32m      4\u001b[39m \u001b[38;5;66;03m# learning while doing mistakes: exploratory study.\u001b[39;00m\n",
      "\u001b[31mTypeError\u001b[39m: Field elements must be 2- or 3-tuples, got '5'"
     ]
    }
   ],
   "source": [
    "arr_2d = np.array([1,2,3],[5,7,0]) # its throws error bcoz we should always pass parameter within [] since here papameter is itself within [], so we forget actual syntaxual []. so pu it wisely.\n",
    "print(\"2D_array:\",arr_2d)\n",
    "\n",
    "# learning while doing mistakes: exploratory study."
   ]
  },
  {
   "cell_type": "code",
   "execution_count": 63,
   "metadata": {},
   "outputs": [
    {
     "name": "stdout",
     "output_type": "stream",
     "text": [
      "2D_array: [[ 1  2  3  4]\n",
      " [ 5  9 17  7]]\n"
     ]
    }
   ],
   "source": [
    "# best way to depict 2d array:\n",
    "arr_2d = np.array([[1,2,3,4],[5,9,17,7]])\n",
    "print(\"2D_array:\",arr_2d)"
   ]
  },
  {
   "cell_type": "code",
   "execution_count": null,
   "metadata": {},
   "outputs": [],
   "source": [
    "# Remember always depict 2d array just we depict matriux in maths ,i.e its order must be properly specified.\n",
    "# for ex array = ([[2,4,6],[4,8,9,0]]) is wrong bcoz no of elemnt in both row is not same .\n",
    "# so see 2d array as matrix of maths. number of element in each row must be same , no of elemt in each column must be same."
   ]
  },
  {
   "cell_type": "markdown",
   "metadata": {},
   "source": [
    "### List vs Numpy array:"
   ]
  },
  {
   "cell_type": "code",
   "execution_count": 62,
   "metadata": {},
   "outputs": [
    {
     "name": "stdout",
     "output_type": "stream",
     "text": [
      "normal python list multiplication: [1, 2, 3, 4, 5, 1, 2, 3, 4, 5]\n",
      "\n",
      "python array(numpy array) multiplication: [4 6 8]\n"
     ]
    }
   ],
   "source": [
    "py_list = [1,2,3,4,5]\n",
    "print(\"normal python list multiplication:\", py_list*2) #  Have you seen usual scaler  list multiplication . i.e list got printed that 2 times \n",
    "\n",
    "np_arr = np.array([2,3,4]) # Numpy scaler multiplication leads to elemt wise multiplication.\n",
    "print(\"\\npython array(numpy array) multiplication:\",np_arr*2) # Numpy array multiplication by scalers leads to element wise multiplication insted of whole list got printed that scalers no of times as we seen in normal python list scaler multiplication.\n",
    "\n",
    "# Depending upon goal and output we chosse which type of multiplication we want , usually in domain of data  we do lot of numpy array multiplication to train models etc.\n",
    "# Remember operation time of  python(numpy) array multiplication is much better than the normal python list multiplication . lets see in next cell."
   ]
  },
  {
   "cell_type": "code",
   "execution_count": 53,
   "metadata": {},
   "outputs": [
    {
     "name": "stdout",
     "output_type": "stream",
     "text": [
      "List operation time: 0.1264019012451172\n",
      "\n",
      "Numpy array operation time : 0.0032639503479003906\n"
     ]
    }
   ],
   "source": [
    "\n",
    "\n",
    "import time  # Here we imported time module to get the opertion time.\n",
    "\n",
    "start = time.time()\n",
    "py_list = [i*2 for i in range(1000000)]\n",
    "print( \"List operation time:\",time.time()- start)\n",
    "\n",
    "start = time.time()\n",
    "np_arr = np.arange(1000000) # predefined another method to specify the array in numpy(python).it bassicaly like normal ranges having start stop step . But just it name for craeting numpy array is   np.arange(stat,step,stop).\n",
    "print(\"\\nNumpy array operation time :\",time.time()- start)  \n",
    "# see array of numpy is more efficient than the normal list python ."
   ]
  },
  {
   "cell_type": "markdown",
   "metadata": {},
   "source": [
    "### Creating array from scracth:"
   ]
  },
  {
   "cell_type": "code",
   "execution_count": 54,
   "metadata": {},
   "outputs": [
    {
     "name": "stdout",
     "output_type": "stream",
     "text": [
      "Zeroes matrix of order 3 by 5 :\n",
      " [[0. 0. 0. 0. 0.]\n",
      " [0. 0. 0. 0. 0.]\n",
      " [0. 0. 0. 0. 0.]]\n"
     ]
    }
   ],
   "source": [
    "# SOME BASIC TYPES OF ARRAYS:\n",
    "\n",
    "\n",
    "# ZEROES ARRAY/MATRIX: np.Zeoes((m,n)), here zeroes is predifined method.\n",
    "\n",
    "Zeroes_matrix = np.zeros((3,5)) # This is syntax of zeroes matrix where (m,n) gives idea about the order of that zeroes matrix.\n",
    "print(\"Zeroes matrix of order 3 by 5 :\\n\",Zeroes_matrix)\n"
   ]
  },
  {
   "cell_type": "code",
   "execution_count": 55,
   "metadata": {},
   "outputs": [
    {
     "name": "stdout",
     "output_type": "stream",
     "text": [
      "Ones matrix of order 4,6 :\n",
      " [[1. 1. 1. 1. 1. 1.]\n",
      " [1. 1. 1. 1. 1. 1.]\n",
      " [1. 1. 1. 1. 1. 1.]\n",
      " [1. 1. 1. 1. 1. 1.]]\n"
     ]
    }
   ],
   "source": [
    "# Ones matrix: np.ones((m,n)) , here ones is predefined as method.\n",
    "Unit_matrix = np.ones((4,6)) # This is syntax about ones matrix where (m,n) gives idea about the order of ones matrix.\n",
    "print(\"Ones matrix of order 4,6 :\\n\",Unit_matrix)"
   ]
  },
  {
   "cell_type": "code",
   "execution_count": 56,
   "metadata": {},
   "outputs": [
    {
     "name": "stdout",
     "output_type": "stream",
     "text": [
      "constant matrix of 8 of order 4 by 6:\n",
      " [[8 8 8 8 8 8]\n",
      " [8 8 8 8 8 8]\n",
      " [8 8 8 8 8 8]\n",
      " [8 8 8 8 8 8]]\n"
     ]
    }
   ],
   "source": [
    "# Matrix of constant values: np.full((m,n),x) here full is that constant number and (m,n) is order of that constant(x) matrix.\n",
    "constant_matrix = np.full((4,6),8) # this syntax of constant matrix where (m,n) is order of matrix and each element of matrix wiill be x i.e 8 here\n",
    "print(\"constant matrix of 8 of order 4 by 6:\\n\",constant_matrix)\n",
    "# got it\n",
    "\n"
   ]
  },
  {
   "cell_type": "code",
   "execution_count": 57,
   "metadata": {},
   "outputs": [
    {
     "name": "stdout",
     "output_type": "stream",
     "text": [
      "Random matrix:\n",
      " [[0.76770344 0.47950448 0.2126788  0.63906008]\n",
      " [0.50742249 0.22466081 0.46205331 0.06986596]]\n"
     ]
    }
   ],
   "source": [
    "# Random array/matrix: It gives random values in array/matrix by own.\n",
    "\n",
    "random_matrix = np.random.random((2,4)) # here (3,4) is basically a order of that random matrix of (m,n).\n",
    "print(\"Random matrix:\\n\",random_matrix) # got it\n",
    "\n",
    "# Remember random values function in python will be always between 0 to 1. See here also"
   ]
  },
  {
   "cell_type": "code",
   "execution_count": 58,
   "metadata": {},
   "outputs": [
    {
     "name": "stdout",
     "output_type": "stream",
     "text": [
      "sequence array:\n",
      " [ 2  4  6  8 10 12 14 16 18]\n"
     ]
    }
   ],
   "source": [
    "# Sequence array: Its not matrix it is 1D array \n",
    " \n",
    " # Remember in python range function boundaryvalue(i.e stop values) are exclusive.\n",
    "\n",
    "seq_array = np.arange(2,20,2) # here firstly , np.arange() is another way syntax for creating array, and (2,20,2) is start, stop, step.\n",
    "print(\"sequence array:\\n\", seq_array) "
   ]
  },
  {
   "cell_type": "markdown",
   "metadata": {},
   "source": [
    "### Vector(Array) , Matrix , Tensor :"
   ]
  },
  {
   "cell_type": "code",
   "execution_count": 59,
   "metadata": {},
   "outputs": [
    {
     "name": "stdout",
     "output_type": "stream",
     "text": [
      "vector or array: [1 2 3 4]\n"
     ]
    }
   ],
   "source": [
    "# Vector: It is nothing but array\n",
    "\n",
    "vector = np.array([1,2,3,4]) # This is basics same syntax for specifying vectors.\n",
    "print(\"vector or array:\", vector)\n",
    "\n"
   ]
  },
  {
   "cell_type": "code",
   "execution_count": 60,
   "metadata": {},
   "outputs": [
    {
     "name": "stdout",
     "output_type": "stream",
     "text": [
      "matrix;\n",
      " [[2 4 5 7]\n",
      " [2 9 7 5]\n",
      " [1 8 0 5]]\n"
     ]
    }
   ],
   "source": [
    "# Matrix : its nothing but 2d array\n",
    "matrix = np.array([[2,4,5,7],[2,9,7,5],[1,8,0,5]]) # Same basic synatx but again the dimension is 2 i.e row column.\n",
    "print(\"matrix;\\n\",matrix)"
   ]
  },
  {
   "cell_type": "code",
   "execution_count": 61,
   "metadata": {},
   "outputs": [
    {
     "name": "stdout",
     "output_type": "stream",
     "text": [
      "Tensor function is :\n",
      " [[ 1  3  5]\n",
      " [ 2  4  6]\n",
      " [11  2  8]\n",
      " [ 5  6  7]\n",
      " [ 5  8  6]\n",
      " [ 5  6  7]]\n",
      "Tensor function 2 is :\n",
      " [[[ 2  3  4]\n",
      "  [ 5  6  8]\n",
      "  [ 0  6  8]]\n",
      "\n",
      " [[10  4  8]\n",
      "  [50 50 60]\n",
      "  [20 50 60]]]\n"
     ]
    }
   ],
   "source": [
    "# Tensor : its is most complex  array/matrix will multiple duimensions. \n",
    "# See basic example of Tensor.\n",
    "\n",
    "Tensor1 = np.array([\n",
    "    [1,3,5],[2,4,6],[11,2,8],  \n",
    "    [5,6,7],[5,8,6],[5,6,7]\n",
    "])\n",
    "print(\"Tensor function is :\\n\",Tensor1)\n",
    "\n",
    "\n",
    "\n",
    "# letsee one more \n",
    "\n",
    "\n",
    "\n",
    "Tensor2 = np.array([\n",
    "    [[2,3,4],[5,6,8],[0,6,8]],  # keep things homogeneous as numbers of elemnts in each rows must be same, and no of elemetns in each individual columns  must be same.\n",
    "    [[10,4,8],[50,50,60],[20,50,60]]\n",
    "])\n",
    "\n",
    "print(\"Tensor function 2 is :\\n\",Tensor2 )\n",
    "\n",
    "# this is so short but actual data are so much complex , complex tensors function is requires heavy computation and designed library and ahrware to computation and iteration."
   ]
  },
  {
   "cell_type": "markdown",
   "metadata": {},
   "source": [
    "### Array Properties : "
   ]
  },
  {
   "cell_type": "code",
   "execution_count": null,
   "metadata": {},
   "outputs": [
    {
     "name": "stdout",
     "output_type": "stream",
     "text": [
      "shape: (3, 4)\n",
      "dimension of arr is: 2\n",
      "Size of arr is : 12\n",
      "data type of arr is : int64\n"
     ]
    }
   ],
   "source": [
    "# Here to access each properties of Array we have some predefined properties(properties hai na ki methods aur yaha pe paarameter pass hote to yaha pe () closed bracket use nii honge). Lets see\n",
    "\n",
    "arr = np.array([[2,4,5,8],[4,6,9,0],[12,60,5,6]])\n",
    " \n",
    " # Shape property: Its gives idea about order of matrix / array etc\n",
    "\n",
    "shape = arr.shape # Here put arr.shape  not arr.shape() means no closed brackets because these are property not methods jaha par parameter pass karna pade. \n",
    "print(\"shape:\", shape)\n",
    "\n",
    "# Dimension property: Its gives idea about dimension of matrix/array/tensor.\n",
    "\n",
    "dimension = arr.ndim # again put arr.ndim not arr.ndim() , means no closed braces because it is property not methods jaha pe parameter pass karna pade.\n",
    "print(\"dimension of arr is:\",dimension)\n",
    "\n",
    "# Size property: Its gives idea about total element od array/matrix/Tensor.\n",
    "\n",
    "size = arr.size # again dont use () here again .\n",
    "print(\"Size of arr is :\",size)\n",
    "\n",
    "# Data Type property:\n",
    "Data = arr.dtype\n",
    "print(\"data type of arr is :\",Data)\n",
    "# agar ek elemt bhii float kr diiya array ka then it will throw  float data type coz hash(float)>> hash(int).\n",
    "# BUT in numpy libraries are optamised just because of having similiar data types , we can sure store diffferent data types values but this is not ideal in numpy. "
   ]
  },
  {
   "cell_type": "markdown",
   "metadata": {},
   "source": [
    "### Array Reshaping:"
   ]
  },
  {
   "cell_type": "code",
   "execution_count": 16,
   "metadata": {},
   "outputs": [
    {
     "name": "stdout",
     "output_type": "stream",
     "text": [
      "Original array: [ 0  1  2  3  4  5  6  7  8  9 10 11]\n",
      "\n",
      "Reshaped array:\n",
      " [[ 0  1  2  3]\n",
      " [ 4  5  6  7]\n",
      " [ 8  9 10 11]]\n",
      "\n",
      "flattened the matrix:  [ 0  1  2  3  4  5  6  7  8  9 10 11]\n",
      "\n",
      "raveled array: [ 0  1  2  3  4  5  6  7  8  9 10 11]\n",
      "\n",
      "Transpose of matrix(reshaped):\n",
      " [[ 0  4  8]\n",
      " [ 1  5  9]\n",
      " [ 2  6 10]\n",
      " [ 3  7 11]]\n"
     ]
    }
   ],
   "source": [
    "arr = np.arange(12)\n",
    "print(\"Original array:\",arr)\n",
    "\n",
    "# Now we may unlock various property of array because we uses numpy here. let see each one by one.\n",
    "\n",
    "# Reshaping: it reshaped specifeid array into desired format of array/matrix.\n",
    "\n",
    "reshaped = arr.reshape((3,4)) # Now this will convert our arr into matrix of order of 3 by 4.\n",
    "print(\"\\nReshaped array:\\n\",reshaped)\n",
    "# Reshaping occurs in valid condition only; for example if we have 12 element in array we can not respahe that array into a matrix of order (3,5) coz 3*5 != 12 but we can craete matrix of order (3,4),(6,2),(2,6) etc valid reshaping.\n",
    "\n",
    "\n",
    "# flattened property: It converts the matrix into flat arrray see. Its retursn the copy of original array.\n",
    "flattened = reshaped.flatten()\n",
    "print(\"\\nflattened the matrix: \",flattened)  # Remember flatten makes copy of original array.But ravel return the changes in original one.But value wise both are same.\n",
    "\n",
    "# ravel : it also flatten the matrix into the 1d array but , it make return changes in original array.see\n",
    "\n",
    "raveled = reshaped.ravel()\n",
    "print(\"\\nraveled array:\",raveled)\n",
    "\n",
    "# Transpose of matrix(T) : we know  it \n",
    "\n",
    "Transpose  = reshaped.T\n",
    "print(\"\\nTranspose of matrix(reshaped):\\n\",Transpose)\n"
   ]
  }
 ],
 "metadata": {
  "kernelspec": {
   "display_name": "1stVENV",
   "language": "python",
   "name": "python3"
  },
  "language_info": {
   "codemirror_mode": {
    "name": "ipython",
    "version": 3
   },
   "file_extension": ".py",
   "mimetype": "text/x-python",
   "name": "python",
   "nbconvert_exporter": "python",
   "pygments_lexer": "ipython3",
   "version": "3.13.2"
  }
 },
 "nbformat": 4,
 "nbformat_minor": 2
}
