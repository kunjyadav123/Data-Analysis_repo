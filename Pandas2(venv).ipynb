{
 "cells": [
  {
   "cell_type": "markdown",
   "metadata": {},
   "source": [
    "# COMPLETE PANDAS FOR DATA SCIENCE : (VENV)"
   ]
  },
  {
   "cell_type": "markdown",
   "metadata": {},
   "source": [
    "#### Data Modification(Inserting i.e adding new Columns) with Pandas:"
   ]
  },
  {
   "cell_type": "code",
   "execution_count": null,
   "metadata": {},
   "outputs": [
    {
     "ename": "",
     "evalue": "",
     "output_type": "error",
     "traceback": [
      "\u001b[1;31mRunning cells with 'Python 3.13.2' requires the ipykernel package.\n",
      "\u001b[1;31mRun the following command to install 'ipykernel' into the Python environment. \n",
      "\u001b[1;31mCommand: '\"c:/Users/Pankaj Yadav/AppData/Local/Microsoft/WindowsApps/python3.13.exe\" -m pip install ipykernel -U --user --force-reinstall'"
     ]
    }
   ],
   "source": [
    "import numpy as np  \n",
    "import pandas as pd\n",
    "import openpyxl as opy\n",
    "\n",
    "print(np.__version__)\n",
    "print(pd.__version__)\n",
    "print(opy.__version__)"
   ]
  },
  {
   "cell_type": "code",
   "execution_count": null,
   "metadata": {},
   "outputs": [],
   "source": [
    "# Adding a new column in our dataframe : See syntax carefully! \n",
    "# Remember one things we may add data uisng constant values and functions as well! \n",
    "# Here we will see two types of Addding columns as.\n",
    "# 1 : Adding columns at any random place.\n",
    "# 2 : Adding column at any particular specified place. lets see one by one!"
   ]
  },
  {
   "cell_type": "code",
   "execution_count": 20,
   "metadata": {},
   "outputs": [
    {
     "name": "stdout",
     "output_type": "stream",
     "text": [
      "      Name  Age          City  Salary Department  Experience  Bonus\n",
      "0    Alice   25      New York   50000         HR           2    500\n",
      "1      Bob   30   Los Angeles   60000         IT           5    600\n",
      "2  Charlie   22       Chicago   45000    Finance           1    800\n",
      "3    David   35       Houston   70000  Marketing           7   2000\n",
      "4      Eva   28       Phoenix   52000      Sales           3   3000\n",
      "5    Frank   26  Philadelphia   58000         IT           4    750\n",
      "      Name  Age          City  Salary Department  Experience  Bonus  \\\n",
      "0    Alice   25      New York   50000         HR           2    500   \n",
      "1      Bob   30   Los Angeles   60000         IT           5    600   \n",
      "2  Charlie   22       Chicago   45000    Finance           1    800   \n",
      "3    David   35       Houston   70000  Marketing           7   2000   \n",
      "4      Eva   28       Phoenix   52000      Sales           3   3000   \n",
      "5    Frank   26  Philadelphia   58000         IT           4    750   \n",
      "\n",
      "   Year end bonus  \n",
      "0         52500.0  \n",
      "1         63000.0  \n",
      "2         47250.0  \n",
      "3         73500.0  \n",
      "4         54600.0  \n",
      "5         60900.0  \n"
     ]
    }
   ],
   "source": [
    "data_x = {\n",
    "    \"Name\": [\"Alice\", \"Bob\", \"Charlie\", \"David\", \"Eva\", \"Frank\"],\n",
    "    \"Age\": [25, 30, 22, 35, 28, 26],\n",
    "    \"City\": [\"New York\", \"Los Angeles\", \"Chicago\", \"Houston\", \"Phoenix\", \"Philadelphia\"],\n",
    "    \"Salary\": [50000, 60000, 45000, 70000, 52000, 58000],\n",
    "    \"Department\": [\"HR\", \"IT\", \"Finance\", \"Marketing\", \"Sales\", \"IT\"],\n",
    "    \"Experience\": [2, 5, 1, 7, 3, 4]\n",
    "}\n",
    "\n",
    "df = pd.DataFrame(data_x)\n",
    "\n",
    "#print(df)\n",
    "\n",
    "\n",
    "# adding a new column at any random position! Observe syntax carefully!\n",
    "# We will see various exmples see one by one !\n",
    "\n",
    "\n",
    "df['Bonus'] = [500,600,800,2000,3000,750]  # adding fixed constants at any random position! This is how syntax works.\n",
    "\n",
    "print(df)\n",
    "\n",
    "df['Year end bonus'] = df['Salary'] * 1.05  # adding new columns  via a function at any random position.\n",
    "\n",
    "print(df)\n",
    "\n",
    "\n",
    "# Go Through with Syntax craefully!\n",
    "\n",
    "\n"
   ]
  },
  {
   "cell_type": "code",
   "execution_count": null,
   "metadata": {},
   "outputs": [
    {
     "name": "stdout",
     "output_type": "stream",
     "text": [
      "      Name  Employee ID  Age          City  Salary Department  Experience\n",
      "0    Alice            3   25      New York   50000         HR           2\n",
      "1      Bob            5   30   Los Angeles   60000         IT           5\n",
      "2  Charlie            2   22       Chicago   45000    Finance           1\n",
      "3    David            7   35       Houston   70000  Marketing           7\n",
      "4      Eva            8   28       Phoenix   52000      Sales           3\n",
      "5    Frank            0   26  Philadelphia   58000         IT           4 \n",
      "\n",
      "\n",
      "\n",
      "\n",
      "       Name  Employee ID  Age          City  Salary  Year End Bonus Department  \\\n",
      "0    Alice            3   25      New York   50000         55000.0         HR   \n",
      "1      Bob            5   30   Los Angeles   60000         66000.0         IT   \n",
      "2  Charlie            2   22       Chicago   45000         49500.0    Finance   \n",
      "3    David            7   35       Houston   70000         77000.0  Marketing   \n",
      "4      Eva            8   28       Phoenix   52000         57200.0      Sales   \n",
      "5    Frank            0   26  Philadelphia   58000         63800.0         IT   \n",
      "\n",
      "   Experience  \n",
      "0           2  \n",
      "1           5  \n",
      "2           1  \n",
      "3           7  \n",
      "4           3  \n",
      "5           4  \n"
     ]
    }
   ],
   "source": [
    "data_x = {\n",
    "    \"Name\": [\"Alice\", \"Bob\", \"Charlie\", \"David\", \"Eva\", \"Frank\"],\n",
    "    \"Age\": [25, 30, 22, 35, 28, 26],\n",
    "    \"City\": [\"New York\", \"Los Angeles\", \"Chicago\", \"Houston\", \"Phoenix\", \"Philadelphia\"],\n",
    "    \"Salary\": [50000, 60000, 45000, 70000, 52000, 58000],\n",
    "    \"Department\": [\"HR\", \"IT\", \"Finance\", \"Marketing\", \"Sales\", \"IT\"],\n",
    "    \"Experience\": [2, 5, 1, 7, 3, 4]\n",
    "}\n",
    "\n",
    "df = pd.DataFrame(data_x)\n",
    "\n",
    "\n",
    "\n",
    "# adding a new column at any particular specified position ! Observe syntax carefully! : via insert method.\n",
    "# lets see syntaxd carefully!\n",
    "\n",
    "#  df.insert(loc. of comun you want,\"that new col_name\",column data).\n",
    "\n",
    "\n",
    "# Ex 1 : Addding fixed constant values  of column at desired place .\n",
    "\n",
    "df.insert(1,\"Employee ID\",[3,5,2,7,8,0])\n",
    "print(df,\"\\n\\n\")   # aur jo coulumn pehle us position pe tha vo ek idx next me displace ho jayega! okay\n",
    "\n",
    "\n",
    "# Ex 2 : Adding a new coulmn but values as function at specified desired place! leet see\n",
    "\n",
    "df.insert(5,\"Year End Bonus\",df['Salary']*1.10)\n",
    "print(\"\\n\\n\",df)\n",
    "\n",
    "\n",
    "# Maja aya this is how we add columns! so choose that ones which is required.\n",
    "\n",
    "\n",
    "\n"
   ]
  },
  {
   "cell_type": "markdown",
   "metadata": {},
   "source": [
    "#### Data Modification(Updating existing columns values) with Pandas:"
   ]
  },
  {
   "cell_type": "code",
   "execution_count": null,
   "metadata": {},
   "outputs": [],
   "source": [
    "# Here We update existing columns via using : .loc() method."
   ]
  },
  {
   "cell_type": "code",
   "execution_count": null,
   "metadata": {},
   "outputs": [
    {
     "name": "stdout",
     "output_type": "stream",
     "text": [
      "      Name  Age          City  Salary  Department  Experience\n",
      "0    Alice   25      New York   50000          HR           2\n",
      "1      Bob   30   Los Angeles   60000  MECHANICAL           5\n",
      "2  Charlie   22       Chicago   45000     Finance           1\n",
      "3    David   35       Houston   70000   Marketing           7\n",
      "4      Eva   28       Phoenix   52000       Sales           3\n",
      "5    Frank   26  Philadelphia   58000          IT           4\n",
      "\n",
      "\n",
      "       Name  Age          City  Salary  Department  Experience\n",
      "0    Alice   25      New York   50000          HR           2\n",
      "1      Bob   30   Los Angeles   60000  MECHANICAL           5\n",
      "2  Charlie   22       Chicago   45000     Finance           1\n",
      "3    David   35       Houston   70000   Marketing           7\n",
      "4   Pankaj   28       Phoenix   52000       Sales           3\n",
      "5    Frank   26  Philadelphia   58000          IT           4\n",
      "\n",
      "\n",
      "       Name  Age          City   Salary  Department  Experience\n",
      "0    Alice   25      New York  60000.0          HR           2\n",
      "1      Bob   30   Los Angeles  72000.0  MECHANICAL           5\n",
      "2  Charlie   22       Chicago  54000.0     Finance           1\n",
      "3    David   35       Houston  84000.0   Marketing           7\n",
      "4   Pankaj   28       Phoenix  62400.0       Sales           3\n",
      "5    Frank   26  Philadelphia  69600.0          IT           4\n"
     ]
    }
   ],
   "source": [
    "data_x = {\n",
    "    \"Name\": [\"Alice\", \"Bob\", \"Charlie\", \"David\", \"Eva\", \"Frank\"],\n",
    "    \"Age\": [25, 30, 22, 35, 28, 26],\n",
    "    \"City\": [\"New York\", \"Los Angeles\", \"Chicago\", \"Houston\", \"Phoenix\", \"Philadelphia\"],\n",
    "    \"Salary\": [50000, 60000, 45000, 70000, 52000, 58000],\n",
    "    \"Department\": [\"HR\", \"IT\", \"Finance\", \"Marketing\", \"Sales\", \"IT\"],\n",
    "    \"Experience\": [2, 5, 1, 7, 3, 4]\n",
    "}\n",
    "\n",
    "df = pd.DataFrame(data_x)\n",
    "\n",
    "#print(df)\n",
    "\n",
    "\n",
    "# see syntax for updating existing column carefully\n",
    "\n",
    "# df.loc[row_idx ,\"Column_name\"] = New Values.\n",
    "\n",
    "# Ex 1 : Updating existing columns values with updating only one values of a column. see syntax carefully\n",
    "\n",
    "df.loc[1,\"Department\"] =\"MECHANICAL\"\n",
    "print(df)\n",
    "\n",
    "df.loc[4,\"Name\"] = \"Pankaj\"\n",
    "print(\"\\n\\n\",df)\n",
    "\n",
    "\n",
    "# Ex 2 : Updating existing columns values with updating multiple columns .see syntax carefully.\n",
    "\n",
    "df['Salary'] = df['Salary'] * 1.20  # for multiple columns data updation we dont use .loc() method we uses direct approach.\n",
    "print(\"\\n\\n\",df)\n",
    "\n",
    "\n",
    "\n",
    "# Remember one thing addiing/ Inserting new columns and updating existing columns are two different things. I guess you got it."
   ]
  },
  {
   "cell_type": "markdown",
   "metadata": {},
   "source": [
    "#### Data Modification( Deleting Existing Columns) with Pandas:"
   ]
  },
  {
   "cell_type": "code",
   "execution_count": null,
   "metadata": {},
   "outputs": [],
   "source": [
    "# we may delete single or multiple columns of dataframe with .drop() method see ! with inplace = True Now see how to use it and see syntax carefully."
   ]
  },
  {
   "cell_type": "code",
   "execution_count": null,
   "metadata": {},
   "outputs": [
    {
     "name": "stdout",
     "output_type": "stream",
     "text": [
      "      Name  Age          City  Salary  Experience\n",
      "0    Alice   25      New York   50000           2\n",
      "1      Bob   30   Los Angeles   60000           5\n",
      "2  Charlie   22       Chicago   45000           1\n",
      "3    David   35       Houston   70000           7\n",
      "4      Eva   28       Phoenix   52000           3\n",
      "5    Frank   26  Philadelphia   58000           4\n",
      "\n",
      "\n",
      "            City  Experience\n",
      "0      New York           2\n",
      "1   Los Angeles           5\n",
      "2       Chicago           1\n",
      "3       Houston           7\n",
      "4       Phoenix           3\n",
      "5  Philadelphia           4\n"
     ]
    }
   ],
   "source": [
    "data_x = {\n",
    "    \"Name\": [\"Alice\", \"Bob\", \"Charlie\", \"David\", \"Eva\", \"Frank\"],\n",
    "    \"Age\": [25, 30, 22, 35, 28, 26],\n",
    "    \"City\": [\"New York\", \"Los Angeles\", \"Chicago\", \"Houston\", \"Phoenix\", \"Philadelphia\"],\n",
    "    \"Salary\": [50000, 60000, 45000, 70000, 52000, 58000],\n",
    "    \"Department\": [\"HR\", \"IT\", \"Finance\", \"Marketing\", \"Sales\", \"IT\"],\n",
    "    \"Experience\": [2, 5, 1, 7, 3, 4]\n",
    "}\n",
    "\n",
    "df = pd.DataFrame(data_x)\n",
    "\n",
    "\n",
    "\n",
    "# Deleting single column :\n",
    "\n",
    "# Syntax is  df.drop(columns = [\"Column name\"], inplace = True)\n",
    "\n",
    "df.drop(columns = [\"Department\"],inplace = True)\n",
    "print(df) # see department column got deleted!\n",
    "\n",
    "\n",
    "# Deleting multiple column:\n",
    "\n",
    "# syntax is easy as before as df.drop(columns = [\"column1_name ,column2_name ,columnn3_name\"],inplace = True)\n",
    "\n",
    "df.drop(columns = [\"Age\",\"Salary\",\"Name\"], inplace = True)\n",
    "print(\"\\n\\n\",df) # now here age salary and name columns got deleted! oaky got it.\n",
    "\n"
   ]
  },
  {
   "cell_type": "markdown",
   "metadata": {},
   "source": [
    "#### Handling Missing data :"
   ]
  },
  {
   "cell_type": "markdown",
   "metadata": {},
   "source": []
  }
 ],
 "metadata": {
  "kernelspec": {
   "display_name": "1STVENV",
   "language": "python",
   "name": "python3"
  },
  "language_info": {
   "codemirror_mode": {
    "name": "ipython",
    "version": 3
   },
   "file_extension": ".py",
   "mimetype": "text/x-python",
   "name": "python",
   "nbconvert_exporter": "python",
   "pygments_lexer": "ipython3",
   "version": "3.13.3"
  }
 },
 "nbformat": 4,
 "nbformat_minor": 2
}
