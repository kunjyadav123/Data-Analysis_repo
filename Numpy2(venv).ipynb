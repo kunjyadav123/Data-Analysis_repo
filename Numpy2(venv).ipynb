{
 "cells": [
  {
   "cell_type": "markdown",
   "metadata": {},
   "source": [
    "## Numpy Array Operation :\n"
   ]
  },
  {
   "cell_type": "code",
   "execution_count": 3,
   "metadata": {},
   "outputs": [
    {
     "name": "stdout",
     "output_type": "stream",
     "text": [
      "2.2.4\n"
     ]
    }
   ],
   "source": [
    "import numpy as np\n",
    "print(np.__version__)"
   ]
  },
  {
   "cell_type": "markdown",
   "metadata": {},
   "source": [
    "### Indexing and Slicing :"
   ]
  },
  {
   "cell_type": "code",
   "execution_count": 3,
   "metadata": {},
   "outputs": [
    {
     "name": "stdout",
     "output_type": "stream",
     "text": [
      "Basic indexing will be : 6\n",
      "Basic slicing : [3 4 5 6 9]\n",
      "Basic slicing : [4 5 6 9 5 8]\n",
      "Slicing with step: [2 4 6 5]\n",
      "Negative Indexin: 9\n",
      "\n",
      "Negative Indexin: 3\n",
      "\n",
      "Negative slicing: [4 5 6]\n",
      "\n",
      "Negative slicing: [2 3 4 5 6 9]\n"
     ]
    }
   ],
   "source": [
    "arr = np.array([1,2,3,4,5,6,9,5,8])\n",
    "\n",
    "# Basic Indexing:\n",
    "\n",
    "print(\"Basic indexing will be :\",arr[5]) # This is how we get specific element via indexing in 1D array.later we will see same for 2-D array but method to indexing will be different. \n",
    "\n",
    "# Slicing in array/list:\n",
    "\n",
    "print(\"Basic slicing :\", arr[2:7])\n",
    "print(\"Basic slicing :\", arr[3:9])\n",
    "\n",
    "# Slicing with step(i.e with basic gaping as per suggestion):\n",
    "\n",
    "print(\"Slicing with step:\",arr[1:8:2]) # Here in [1:8:2]  here 1 is starting inx , 8 is exclusive last idx but 2 here is gap step size.\n",
    "# Ok we did it! remember that slicing with steps in python(numpy array).\n",
    "\n",
    "# Negative Indexing and slicing:\n",
    "print(\"Negative Indexin:\",arr[-3])\n",
    "print(\"\\nNegative Indexin:\",arr[-7])\n",
    "print(\"\\nNegative slicing:\",arr[-6:-3]) # indx element of last element will be exclusive.i.e of -3 i.e 9.\n",
    "print(\"\\nNegative slicing:\",arr[-8:-2]) # indx element of last element will be exclusive i.e of -2 i.e 5.\n",
    "\n",
    "\n",
    "\n",
    "\n",
    "\n"
   ]
  },
  {
   "cell_type": "markdown",
   "metadata": {},
   "source": [
    "### Indexing and Slicing  in 2D-array(Matrices):"
   ]
  },
  {
   "cell_type": "code",
   "execution_count": null,
   "metadata": {},
   "outputs": [
    {
     "name": "stdout",
     "output_type": "stream",
     "text": [
      "specific number in 2D array:\n",
      " [[ 2  4  7]\n",
      " [ 4  8  9]\n",
      " [11  4  6]]\n",
      "\n",
      "specific number in 2D array: 4\n",
      "\n",
      "specific number in 2D array: 6\n",
      "\n",
      "specific number in 2D array: 9\n",
      "\n",
      "Entire row : [11  4  6]\n",
      "\n",
      "Entire row : [4 8 9]\n",
      "\n",
      "Entire  column: [4 8 4]\n",
      "\n",
      "Entire  column: [ 2  4 11]\n"
     ]
    }
   ],
   "source": [
    "arr_2d = np.array([[2,4,7],\n",
    "                  [4,8,9],\n",
    "                  [11,4,6]])\n",
    "\n",
    "print(\"specific number in 2D array:\\n\",arr_2d)\n",
    "\n",
    "# Indexing in 2D array: via [m,n] here m,n boths start with zeroes values. first we depicts rows no that we preceeds to the column numbers.see\n",
    "# Grab that syntax perecisely.\n",
    "\n",
    "print(\"\\nspecific number in 2D array:\",arr_2d[2,1]) # here 2,1 depicts row and coloumn no trespectively.\n",
    "print(\"\\nspecific number in 2D array:\",arr_2d[2,2]) \n",
    "print(\"\\nspecific number in 2D array:\",arr_2d[1,2]) \n",
    "\n",
    "# Thats how things works.\n",
    "\n",
    "# Accesssing entire row and entitre column seperately:\n",
    "# Grab that syntax perecisely.\n",
    "\n",
    "print(\"\\nEntire row :\",arr_2d[2])  # This is Basic syntax about accessing alone row of 2d array.\n",
    "print(\"\\nEntire row :\",arr_2d[1])  \n",
    "\n",
    "# lets access coloums alone:\n",
    "\n",
    "print(\"\\nEntire  column:\",arr_2d[:,1]) # This is syntax about the the accesing coloumn seprately. i.e arr_2d[:,colm_no].\n",
    "print(\"\\nEntire  column:\",arr_2d[:,0])\n",
    "\n",
    "\n"
   ]
  },
  {
   "cell_type": "markdown",
   "metadata": {},
   "source": [
    "### Sorting in Array :\n"
   ]
  },
  {
   "cell_type": "code",
   "execution_count": null,
   "metadata": {},
   "outputs": [
    {
     "name": "stdout",
     "output_type": "stream",
     "text": [
      "Sorted array: [1 2 2 3 3 4 5 6 7 8]\n",
      "Sorted 2D by column:\n",
      " [[1 1]\n",
      " [2 2]\n",
      " [3 3]]\n",
      "\n",
      "Sorted 2D by row:\n",
      " [[1 3]\n",
      " [1 2]\n",
      " [2 3]]\n",
      "Sorted 2D by column:\n",
      " [[1 4 1 5]\n",
      " [2 4 3 5]\n",
      " [3 5 6 8]]\n",
      "Sorted 2D by row:\n",
      " [[1 3 4 5]\n",
      " [2 4 5 6]\n",
      " [1 3 5 8]]\n"
     ]
    }
   ],
   "source": [
    "unsorted_arr = np.array([2,1,3,2,4,6,7,3,5,8,])\n",
    "\n",
    "# Sorting in array(ascend order):\n",
    "# See syntax carefully:\n",
    "\n",
    "print(\"Sorted array:\",np.sort(unsorted_arr)) # This syntax is somehow complex but stick here.\n",
    "\n",
    "# Sorting in 2D array:\n",
    "\n",
    "arr_2d_unsorted = np.array([[3,1],[1,2],[2,3]])\n",
    "\n",
    "# In both sorting of 2d array row and column wise the synatax is some complex so get comfortable with it asap.\n",
    "\n",
    "\n",
    "print(\"Sorted 2D by column:\\n\" ,np.sort(arr_2d_unsorted,axis = 0)) # Here see that syntax carefully and axis for column wise sorting will be axis = 0.\n",
    "\n",
    "print(\"\\nSorted 2D by row:\\n\" ,np.sort(arr_2d_unsorted,axis = 1)) # Here see that  sybtax cxarfully and axis for row wise sorting will be axis  = 1.\n",
    "\n",
    "\n",
    "# lets see one more examole :2d array sorting.\n",
    "\n",
    "\n",
    "\n",
    "arr2d_unsorted = np.array([[1,4,3,5],[2,4,6,5],[3,5,1,8]])\n",
    "\n",
    "print(\"Sorted 2D by column:\\n\" ,np.sort(arr2d_unsorted,axis = 0)) # Here see that syntax carefully and axis for column wise sorting will be axis = 0.\n",
    "\n",
    "print(\"Sorted 2D by row:\\n\" ,np.sort(arr2d_unsorted,axis = 1)) # Here see that syntax carefully and axis for row wise sorting will be axis = 1\n",
    "\n",
    "# we hope you got it just remember sorting means aranging in sacending order.\n",
    "\n"
   ]
  },
  {
   "cell_type": "markdown",
   "metadata": {},
   "source": [
    "### Array Filteration : And Masking vs Indexing\n"
   ]
  },
  {
   "cell_type": "code",
   "execution_count": null,
   "metadata": {},
   "outputs": [
    {
     "name": "stdout",
     "output_type": "stream",
     "text": [
      "print array values at idx no 4 : 5\n",
      "print numbers soecified : [2 4 6 8]\n"
     ]
    }
   ],
   "source": [
    "# The special feature about numpy in array filteration is it allows to pass statement for condition etc as parameter in methods associated taht nummpy array which (statement condition) is also known as mask and taht process of doing taht is known as masking.Lets see !\n",
    "\n",
    " # MASKING: when we passes statement as condition insted of direct range or idx no and it is totally valid due to numpy.\n",
    "\n",
    "numbers = np.array([1,2,3,4,5,6,7,8])\n",
    "\n",
    " # Basic Indexing in array:\n",
    " \n",
    "num1 = numbers[4] # it is indexing coz here  we will acces array elemt based on passed idx valuei.e 4 = 5\n",
    "print(\"print array values at idx no 4 :\",num1)\n",
    "\n",
    "even_numbers = numbers[numbers%2 == 0] # Here masking occurs as we passed statement condition insted of proper index numbers ,this is allowwd due to special power of numpy\n",
    "                                # Here it is not as like passing idx no we are directly getting values of numbers with our statement condition and concept of masking is dieefrent from indexing.\n",
    "\n",
    "print(\"print numbers soecified :\",even_numbers)\n",
    "\n",
    "# Have you seen how a libray makes a language so powerful.\n",
    "\n",
    "# Remember masking and indexing of array are  different, because indexing access value of array though idx no but masking (statement condition) access the elemet of array directly with what condition say see example."
   ]
  },
  {
   "cell_type": "code",
   "execution_count": null,
   "metadata": {},
   "outputs": [
    {
     "name": "stdout",
     "output_type": "stream",
     "text": [
      "print no with specified indx no: [5 7 6]\n",
      "print no with specified indx no: [1 3 5 4]\n",
      "print no with specified indx no: 4\n"
     ]
    }
   ],
   "source": [
    "# Lets see other way to do masking vs indexing\n",
    "\n",
    "Num = np.array([1,3,5,7,6,4])\n",
    "\n",
    "mask1 = Num>4 # Mask specified. and in mask a complete expression for evaluation stores.\n",
    "mask2 = Num<6\n",
    "mask3 = num=5 # this like case of indexing and as it got only one idx value . so we can say indexig is specialcase (= wala) caes of masking.\n",
    "\n",
    "\n",
    "\n",
    "\n",
    "print(\"print no with specified indx no:\", Num[mask1])  # Masking  values will get values more that 4 from array unlike urthodox indexing                                                                                    \n",
    "print(\"print no with specified indx no:\", Num[mask2])  # Masking  values will get values less than that of 6 from array unlike urthodox indexing                                                                                    \n",
    "print(\"print no with specified indx no:\", Num[mask3])  # Masking  values will get value num = 5 but its convert into case of indexing   as num[5]  like.                                                                            \n",
    "\n",
    "# cleared !\n",
    "\n",
    "\n"
   ]
  },
  {
   "cell_type": "markdown",
   "metadata": {},
   "source": [
    "### Indexing In Array:"
   ]
  },
  {
   "cell_type": "code",
   "execution_count": 19,
   "metadata": {},
   "outputs": [
    {
     "name": "stdout",
     "output_type": "stream",
     "text": [
      "More than one idx accessing: [9 7]\n",
      "more than one idx accessing: [2 9 4]\n"
     ]
    },
    {
     "ename": "IndexError",
     "evalue": "too many indices for array: array is 1-dimensional, but 2 were indexed",
     "output_type": "error",
     "traceback": [
      "\u001b[31m---------------------------------------------------------------------------\u001b[39m",
      "\u001b[31mIndexError\u001b[39m                                Traceback (most recent call last)",
      "\u001b[36mCell\u001b[39m\u001b[36m \u001b[39m\u001b[32mIn[19]\u001b[39m\u001b[32m, line 16\u001b[39m\n\u001b[32m     12\u001b[39m \u001b[38;5;28mprint\u001b[39m(\u001b[33m\"\u001b[39m\u001b[33mmore than one idx accessing:\u001b[39m\u001b[33m\"\u001b[39m,number[indices])\n\u001b[32m     15\u001b[39m \u001b[38;5;66;03m# Wrong format of accessing multiple idx values.\u001b[39;00m\n\u001b[32m---> \u001b[39m\u001b[32m16\u001b[39m \u001b[38;5;28mprint\u001b[39m(\u001b[43mnumber\u001b[49m\u001b[43m[\u001b[49m\u001b[32;43m2\u001b[39;49m\u001b[43m,\u001b[49m\u001b[32;43m4\u001b[39;49m\u001b[43m]\u001b[49m) \u001b[38;5;66;03m# error coz we use one pair of bracket\u001b[39;00m\n",
      "\u001b[31mIndexError\u001b[39m: too many indices for array: array is 1-dimensional, but 2 were indexed"
     ]
    }
   ],
   "source": [
    "number = np.array([5,6,9,2,4,7])\n",
    "\n",
    "\n",
    "# Accessing more than one element via inedxing in array.\n",
    "  \n",
    "print(\"More than one idx accessing:\",number[[2,5]]) # This is right format i.e two pairs of brackets will be used .\n",
    "\n",
    "\n",
    "# also we can do same as!\n",
    "\n",
    "indices = [3,2,4]\n",
    "print(\"more than one idx accessing:\",number[indices])\n",
    "\n",
    "\n",
    "# Wrong format of accessing multiple idx values.\n",
    "print(number[2,4]) # error coz we use one pair of bracket"
   ]
  },
  {
   "cell_type": "markdown",
   "metadata": {},
   "source": [
    "### WHERE CLAUSE:\n",
    "\n"
   ]
  },
  {
   "cell_type": "code",
   "execution_count": 29,
   "metadata": {},
   "outputs": [
    {
     "name": "stdout",
     "output_type": "stream",
     "text": [
      "(array([3, 4]),)\n",
      "\n",
      "print where clause functioning without x and y: [6 7]\n",
      "\n",
      " (array([0, 1, 5]),)\n",
      "\n",
      "print where clause without that x and y: [1 4 2]\n",
      "\n",
      " [ 1  8 10 12 14  2]\n",
      "\n",
      "print where clause functioning with x an y: [ 1  8 10 12 14  2]\n",
      "\n",
      "print where clause functioning with x and y: [3 6 7 8 9 6]\n",
      "\n",
      "print where clause with x and y: [False False False  True  True False]\n",
      "\n",
      "print where clause with x and y: [ True False False False False  True]\n"
     ]
    }
   ],
   "source": [
    "# ITS RESEMBELS TO CONCEPT OF MASKING IN ONE CASE WHILE IN ONE CASE NOT:\n",
    "# ANALOGY TI WHERE CLAUSE OF IF -ELSE:  YES ITS FUNCTIONIN IS JUTS LIKE WORKING OF IF - ELSE STATEMENT OF PYTHON.SEE\n",
    "\n",
    "number = np.array([1,4,5,6,7,2])\n",
    "\n",
    "# see syntax of where clause\n",
    "# syntx_where = np.where(condition,x,y) \n",
    "\n",
    "# Now remember in where clause either put both statement x and y both or niether put any. if you put only one ot will throw error.\n",
    "# and if condition get satisfied it will print x other wise ot will print y. Now if we don't have x and y both in that case if will simply put cases of masking as we have only condition.see\n",
    "\n",
    "num_where = np.where(number>5) # Have none of x and y statement.\n",
    "\n",
    "# if you are using where clause without x and why make it print in following way.  \n",
    "\n",
    "# print(num_where ) returns evaluted array. but print(number[num1_where]) returns \n",
    "print(num_where) # it simply returens arrray and gives idea about that we are talking and created about an evaluted array.\n",
    "print(\"\\nprint where clause functioning without x and y:\",number[num_where]) # it returns actual array as per condition.\n",
    "  # one more example\n",
    "num0_where = np.where(number<5)\n",
    "print(\"\\n\",num0_where) # it basically shows evaluated array.\n",
    "print(\"\\nprint where clause without that x and y:\",number[num0_where]) # But without x and y this is right way to get actual array.\n",
    "\n",
    "\n",
    "\n",
    "# If we are using where clause with x and y we will make it print in such following way. Dont put here as print(number[num1_where]) insted put print(num1_where).\n",
    "# As here in case where both x and y exist , makes it directly returns actual array with print(num1_where) , instead of printing evaluetd array with print(number[num1_where] no dont do it(no need to do masking) just in case when we both x and y are absent . this is major difference in printing under both condition.\n",
    "\n",
    "num1_where = np.where(number>2,number*2,number)\n",
    "print(\"\\n\",num1_where) # it simply retursn values in existing order , but values x and y stement ke according change kr ke print karega.\n",
    "print(\"\\nprint where clause functioning with x an y:\",num1_where)\n",
    "\n",
    "num2_where = np.where(number<4,number*3,number+2)\n",
    "print(\"\\nprint where clause functioning with x and y:\",num2_where) # no masking , directly getting actual array\n",
    "\n",
    "num3_where = np.where(number>5,True,False)\n",
    "print(\"\\nprint where clause with x and y:\",num3_where)\n",
    "# here we can put where clause as np.where(number=4, True, False) because its is syntax for array indexig. okay\n",
    "\n",
    "num4_where = np.where(number<3,True,False)\n",
    "print(\"\\nprint where clause with x and y:\",num4_where)"
   ]
  },
  {
   "cell_type": "markdown",
   "metadata": {},
   "source": [
    "### ADDING AND CONCATENATING ARRAY:"
   ]
  },
  {
   "cell_type": "code",
   "execution_count": null,
   "metadata": {},
   "outputs": [
    {
     "name": "stdout",
     "output_type": "stream",
     "text": [
      "\n",
      "adding element of array: [5 7 9]\n",
      "\n",
      "Concatenation of arrays: [1 2 3 4 5 6]\n",
      "\n",
      "Concatenation of array: [10 20 40 60  1  2  3  4  5  6]\n"
     ]
    }
   ],
   "source": [
    "# ADDINFG ELEMENTS OF ARRAYS:\n",
    "\n",
    "arr1 = np.array([1,2,3])\n",
    "arr2 = np.array([4,5,6])\n",
    "\n",
    "added_array = arr1+arr2 # Its basically adds corresponding elemet of array , but remember to execute this opertion make sure shape of array should be same. other wise result will be error.\n",
    "print(\"\\nAdding element of array:\",added_array) \n",
    "\n",
    "\n",
    "# CONCATENATION  IN ARRAY : NO NEED TO HAVE ARRAYS OF SAME SHAPE. we may concatenate multiple arrays same time.\n",
    "  \n",
    "concatenation = np.concatenate((arr1,arr2))  # pass value within tuples.\n",
    "print(\"\\nConcatenation of arrays:\",concatenation)\n",
    "\n",
    "arr3 = np.array([10,20,40,60])\n",
    "con = np.concatenate((arr3,concatenation))  # this is a,so allowed.\n",
    "print(\"\\nConcatenation of array:\",con)"
   ]
  },
  {
   "cell_type": "markdown",
   "metadata": {},
   "source": [
    "### ARRAY COMPATABIILITY :\n",
    "\n"
   ]
  },
  {
   "cell_type": "code",
   "execution_count": 38,
   "metadata": {},
   "outputs": [
    {
     "name": "stdout",
     "output_type": "stream",
     "text": [
      "Array Compartability with shape property: True\n",
      "\n",
      "Array Compartability with shape property: True\n",
      "\n",
      "Array Compartability with shape property: False\n"
     ]
    }
   ],
   "source": [
    "# Its validetes the shape of array , whereter it is true or not.\n",
    "# here we use shape property of array:\n",
    "\n",
    "arr1 = np.array([1,2,3,4])\n",
    "arr2 = np.array([5,6,7,8])\n",
    "arr3 = np.array([9,10,11,12,13])\n",
    "\n",
    "print(\"Array Compartability with shape property:\",arr1.shape == arr2.shape)\n",
    "print(\"\\nArray Compartability with shape property:\",arr1.shape == arr2.shape)\n",
    "print(\"\\nArray Compartability with shape property:\",arr2.shape == arr3.shape)  # Result will be in boolean value.\n",
    "\n",
    "\n",
    "\n",
    "\n",
    "\n",
    "\n"
   ]
  },
  {
   "cell_type": "markdown",
   "metadata": {},
   "source": [
    "### Vstack and Hstack METHOD :\n"
   ]
  },
  {
   "cell_type": "code",
   "execution_count": null,
   "metadata": {},
   "outputs": [
    {
     "name": "stdout",
     "output_type": "stream",
     "text": [
      "adding new row via vstack:\n",
      " [[ 2  3]\n",
      " [ 4  9]\n",
      " [10 20]]\n",
      "adding new row via vstack:\n",
      " [[ 2  3]\n",
      " [ 4  9]\n",
      " [10 20]\n",
      " [11 24]]\n",
      "\n",
      "adding column with hstack:\n",
      " [[2 3 2]\n",
      " [4 9 6]]\n",
      "\n",
      "complex column addition  with hstack: [[2 3 2 7]\n",
      " [4 9 6 5]]\n"
     ]
    }
   ],
   "source": [
    "org_arr = np.array([[2,3],[4,9]])\n",
    "\n",
    "\n",
    "# vstack : Its is use for creating new row.\n",
    "\n",
    "new_row = np.array([10,20]) # Specify valid row for row addition. and so specify acordingly.\n",
    "\n",
    "with_new_row = np.vstack((org_arr,new_row))\n",
    "\n",
    "print(\"adding new row via vstack:\\n\",with_new_row)\n",
    "\n",
    "new1_row = np.array([11,24])\n",
    "\n",
    "with1_new_row = np.vstack((with_new_row,new1_row))\n",
    "\n",
    "print(\"adding new row via vstack:\\n\",with1_new_row)\n",
    "\n",
    "\n",
    "# Hstack : Its is use for colimn addition.\n",
    "\n",
    "new_col = np.array([[2],[6]])\n",
    "\n",
    "with_new_col = np.hstack((org_arr,new_col)) # always pass valid array/ matrix so that it get done.\n",
    "\n",
    "print(\"\\nadding column with hstack:\\n\", with_new_col)\n",
    " \n",
    "#see  as \n",
    "new1_col = np.array([[7],[5]])\n",
    "\n",
    "with_new1_col = np.hstack((with_new_col,new1_col))\n",
    "print(\"\\ncomplex column addition  with hstack:\",with_new1_col)   # this is how hstack works.\n",
    "\n"
   ]
  },
  {
   "cell_type": "markdown",
   "metadata": {},
   "source": [
    "### DELETING ARRAY ELEMENT/ SECTION OF ELEMENTS FROM ARRAY(1D) :"
   ]
  },
  {
   "cell_type": "code",
   "execution_count": null,
   "metadata": {},
   "outputs": [
    {
     "name": "stdout",
     "output_type": "stream",
     "text": [
      "[1 2 3 4 6]\n",
      "[1 2 4 5 6]\n",
      "[1 2 3 4 5]\n",
      "[1 2 3 4 5]\n",
      "[10 20 60]\n"
     ]
    }
   ],
   "source": [
    "arr = np.array([1,2,3,4,5,6])\n",
    "\n",
    "# Here for,deleting element from array  we uses delete method. see\n",
    "# Aur ek baat this delete method return array after removing specified elements or multiple element , it does't return deleted elemet or deleted section. lets see\n",
    "\n",
    "# Syntax for deleting element or section.\n",
    "# Remember delete method take 2 or 3 parameter either combo of array and elemt idx no  or array and slice(idx1,idx2)  and in 2D array name , element , axis = 0 or 1.\n",
    "\n",
    "# deleted = np.delete(array_name,elemnt) ; array, that elemet thar we want to make delete.\n",
    "# or \n",
    "# deleted = np.delete(array_name,slice(idx1,idx2))  ; array , and deleyted sliced part.\n",
    "\n",
    "delete5 = np.delete(arr,4)  # and one more thing we may delete only that element that is alredy exist if we want to delete  element outside from idx no range it will throw error.\n",
    "print(delete5) # It returns array after deleting that element from array.\n",
    " \n",
    "delete3 = np.delete(arr,2)\n",
    "print(delete3)\n",
    "\n",
    "delete_6 = np.delete(arr,5) # this and\n",
    "delete6 = np.delete(arr,len(arr)-1)  # this is same\n",
    "\n",
    "print(delete_6)\n",
    "print(delete6)\n",
    "# Got it !\n",
    "\n",
    "\n",
    "# Now see deleting multiple elements via slicing.\n",
    "\n",
    "arr_1 = np.array([10, 20, 30, 40, 50, 60])\n",
    "new_arr_1 = np.delete(arr_1, slice(2, 5))  # Delete elements from index 2 to 4 (30, 40, 50) here elemet of idxno 5 is exclusive.\n",
    "print(new_arr_1)\n",
    "\n",
    "new_arr_2 = np.delete(arr_1,slice())"
   ]
  },
  {
   "cell_type": "markdown",
   "metadata": {},
   "source": [
    "### DELETING ARRAY ELEMENT FROM ARRAY(2D i.e MATRIX) : Row and Column wise."
   ]
  },
  {
   "cell_type": "code",
   "execution_count": 82,
   "metadata": {},
   "outputs": [
    {
     "name": "stdout",
     "output_type": "stream",
     "text": [
      "\n",
      "Row wise deletion using axis= 0:\n",
      " [[1 2 3]\n",
      " [7 8 9]]\n",
      "\n",
      "Column wise deletion using axis = 1:\n",
      " [[ 1  2]\n",
      " [ 3  6]\n",
      " [10 20]\n",
      " [11 22]]\n"
     ]
    }
   ],
   "source": [
    "# Row wise deletion:\n",
    "\n",
    "arr_0 = np.array([[1, 2, 3], [4, 5, 6], [7, 8, 9]])\n",
    "\n",
    "new_arr = np.delete(arr_0, 1, axis=0)  # Delete the 2nd row (index 1 of row) row  wise deletion.\n",
    "print(\"\\nRow wise deletion using axis= 0:\\n\",new_arr)\n",
    "\n",
    "\n",
    "# column wise deletion\n",
    "\n",
    "arr_c = np.array([[1,2,4],[3,6,9],[10,20,60],[11,22,44]])\n",
    "\n",
    "new_arr_c = np.delete(arr_c,2,axis = 1) # Delete the 3rd column(index 2 of coloum).\n",
    "print(\"\\nColumn wise deletion using axis = 1:\\n\",new_arr_c)"
   ]
  }
 ],
 "metadata": {
  "kernelspec": {
   "display_name": "1stVENV",
   "language": "python",
   "name": "python3"
  },
  "language_info": {
   "codemirror_mode": {
    "name": "ipython",
    "version": 3
   },
   "file_extension": ".py",
   "mimetype": "text/x-python",
   "name": "python",
   "nbconvert_exporter": "python",
   "pygments_lexer": "ipython3",
   "version": "3.13.2"
  }
 },
 "nbformat": 4,
 "nbformat_minor": 2
}
